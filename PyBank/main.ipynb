{
 "cells": [
  {
   "cell_type": "code",
   "execution_count": 2,
   "metadata": {},
   "outputs": [
    {
     "name": "stdout",
     "output_type": "stream",
     "text": [
      "<_csv.reader object at 0x7fcbb0615c50>\n",
      "86\n"
     ]
    }
   ],
   "source": [
    "# Import csv module\n",
    "import csv\n",
    "#Read csv file\n",
    "with open('budget_data.csv', 'r') as csv_file:\n",
    "    #create csv csv.reader\n",
    "    csv_reader = csv.reader(csv_file)\n",
    "    #see that just entering print only shows the csv file as an object in directory\n",
    "    print(csv_reader)\n",
    "\n",
    "    #initiate variables \n",
    "    csv_header = next(csv_reader)\n",
    "    month = []\n",
    "    revenue = []\n",
    "    revenue_delta = []\n",
    "    monthly_delta = []\n",
    "\n",
    "    #iterate to see all values \n",
    "    #for line in csv_reader:\n",
    "       #print(line[0:1])\n",
    "\n",
    "         # Number of Months \n",
    "    for row in csv_reader:\n",
    "        month.append(row[0])\n",
    "        revenue.append(row[1])\n",
    "    print(len(month))\n",
    "\n"
   ]
  },
  {
   "cell_type": "code",
   "execution_count": 3,
   "metadata": {},
   "outputs": [
    {
     "name": "stdout",
     "output_type": "stream",
     "text": [
      "38382578\n"
     ]
    }
   ],
   "source": [
    "#Profit/Losses over entire period\n",
    "\n",
    "revenue_int = map(int,revenue)\n",
    "total_revenue = (sum(revenue_int))\n",
    "print(total_revenue)"
   ]
  },
  {
   "cell_type": "code",
   "execution_count": 4,
   "metadata": {},
   "outputs": [
    {
     "name": "stdout",
     "output_type": "stream",
     "text": [
      "-2315.1176470588234\n"
     ]
    }
   ],
   "source": [
    "#Average change in Profit/Losses over entire period\n",
    "\n",
    "i = 0\n",
    "for i in range(len(revenue)-1):\n",
    "    profit_loss = int(revenue[i+1]) - int(revenue[i])\n",
    "#append prfoit_loss\n",
    "    revenue_delta.append(profit_loss)\n",
    "Total = sum(revenue_delta)\n",
    "monthly_delta = Total / len(revenue_delta)\n",
    "print(monthly_delta)\n"
   ]
  },
  {
   "cell_type": "code",
   "execution_count": 5,
   "metadata": {},
   "outputs": [
    {
     "name": "stdout",
     "output_type": "stream",
     "text": [
      "1926159\n"
     ]
    }
   ],
   "source": [
    "#Greatst increase in profits over entire period\n",
    "\n",
    "profit_increase = max(revenue_delta)\n",
    "print(profit_increase)\n",
    "increase = revenue_delta.index(profit_increase)\n",
    "month_increase = month[increase+1]\n"
   ]
  },
  {
   "cell_type": "code",
   "execution_count": 6,
   "metadata": {},
   "outputs": [
    {
     "name": "stdout",
     "output_type": "stream",
     "text": [
      "-2196167\n"
     ]
    }
   ],
   "source": [
    "#Greatest decrease in profits over entire period\n",
    "\n",
    "profit_decrease = min(revenue_delta)\n",
    "print(profit_decrease)\n",
    "decrease = revenue_delta.index(profit_decrease)\n",
    "monthly_decrease = month[decrease + 1] "
   ]
  },
  {
   "cell_type": "code",
   "execution_count": 7,
   "metadata": {},
   "outputs": [
    {
     "name": "stdout",
     "output_type": "stream",
     "text": [
      "Financial Analysis\n",
      "--------------------------\n",
      "Total Months: 86\n",
      "Total Profit/Loss: $38382578\n",
      "Average Change: -2315.1176470588234\n",
      "Greatest Increase in Profits: Feb-2012 ($1926159)\n",
      "Greatest Decrease in Profits: Sep-2013 ($-2196167)\n"
     ]
    }
   ],
   "source": [
    "#Print data\n",
    "\n",
    "print(f\"Financial Analysis\")\n",
    "print(f\"--------------------------\")\n",
    "print(f\"Total Months: {len(month)}\")\n",
    "print(f\"Total Profit/Loss: ${total_revenue}\")\n",
    "print(f\"Average Change: {monthly_delta}\")\n",
    "print(f\"Greatest Increase in Profits: {month_increase} (${profit_increase})\")\n",
    "print(f\"Greatest Decrease in Profits: {monthly_decrease} (${profit_decrease})\")\n"
   ]
  }
 ],
 "metadata": {
  "interpreter": {
   "hash": "9031d89e471e59b573ff9c35987f0c63808201a2eeea5347641fe19fe2615dbc"
  },
  "kernelspec": {
   "display_name": "Python 3.7.11 ('dev')",
   "language": "python",
   "name": "python3"
  },
  "language_info": {
   "codemirror_mode": {
    "name": "ipython",
    "version": 3
   },
   "file_extension": ".py",
   "mimetype": "text/x-python",
   "name": "python",
   "nbconvert_exporter": "python",
   "pygments_lexer": "ipython3",
   "version": "3.7.11"
  },
  "orig_nbformat": 4
 },
 "nbformat": 4,
 "nbformat_minor": 2
}
